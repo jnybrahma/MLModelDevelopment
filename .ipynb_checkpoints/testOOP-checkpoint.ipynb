{
 "cells": [
  {
   "cell_type": "code",
   "execution_count": 1,
   "id": "e07e0d94-d521-4b05-8cec-dcb2c3a0b820",
   "metadata": {},
   "outputs": [],
   "source": [
    "class MeanImputer:\n",
    "\n",
    "    def __init__(self, variables):\n",
    "        self.variables = variables\n",
    "\n",
    "    def fit(self, X, y=None):\n",
    "        self.imputer_dict_ = X[self.variables].mean().to_dict()\n",
    "        return self\n",
    "\n",
    "    def transform(self, X):\n",
    "        for x in self.variables:\n",
    "            X[x] = X[x].fillna(\n",
    "                self.imputer_dict[x])\n",
    "        return X\n",
    "    "
   ]
  },
  {
   "cell_type": "code",
   "execution_count": 2,
   "id": "203efa6c-60e8-445b-8dc8-8e8dc7c278c7",
   "metadata": {},
   "outputs": [],
   "source": [
    "my_imputer = MeanImputer(\n",
    "    variables = ['age', 'fare']\n",
    ")"
   ]
  },
  {
   "cell_type": "code",
   "execution_count": 3,
   "id": "516a98b1-ea2a-426b-be31-27e272bd8461",
   "metadata": {},
   "outputs": [
    {
     "data": {
      "text/plain": [
       "['age', 'fare']"
      ]
     },
     "execution_count": 3,
     "metadata": {},
     "output_type": "execute_result"
    }
   ],
   "source": [
    "my_imputer.variables"
   ]
  },
  {
   "cell_type": "code",
   "execution_count": 4,
   "id": "8dabb921-771e-4d65-9a3b-8af1f03ce186",
   "metadata": {},
   "outputs": [],
   "source": [
    "# my_imputer.fit(my_data)"
   ]
  },
  {
   "cell_type": "code",
   "execution_count": 5,
   "id": "84c2204c-b451-4d4f-9132-be01625fe034",
   "metadata": {},
   "outputs": [],
   "source": [
    "# Parent Class\n",
    "class TransformerMixin:\n",
    "\n",
    "    def fit_transform(self, X, y=None):\n",
    "        X= self.fit(X, y).transform(X)\n",
    "\n",
    "        return X"
   ]
  },
  {
   "cell_type": "code",
   "execution_count": 6,
   "id": "e7685fc6-01bd-459d-8e94-811c938bdbfc",
   "metadata": {},
   "outputs": [],
   "source": [
    "# Child Class\n",
    "class MeanImputer(TransformerMixin):\n",
    "\n",
    "    def __init__(self, variables):\n",
    "        self.variables = variables\n",
    "\n",
    "    def fit(self, X, y=None):\n",
    "        self.imputer_dict_ = X[self.variables].mean().to_dic()\n",
    "        return self\n",
    "\n",
    "    def transform(self, X):\n",
    "        for x in self.variables:\n",
    "            X[x] = X[x].fillna(\n",
    "                self.imputer_dict[x])\n",
    "\n",
    "        return X\n",
    "        "
   ]
  },
  {
   "cell_type": "code",
   "execution_count": 7,
   "id": "91efc8db-a2a6-4f3c-9496-4c53f6e20f39",
   "metadata": {},
   "outputs": [],
   "source": [
    "my_imputer = MeanImputer(\n",
    "    variables = ['age', 'fare']\n",
    ")"
   ]
  },
  {
   "cell_type": "code",
   "execution_count": 8,
   "id": "1799ca89-7e50-43d0-b4cb-fb1441454f7c",
   "metadata": {},
   "outputs": [],
   "source": [
    "# data_t = my_imputer.fit_transform(my_data)"
   ]
  },
  {
   "cell_type": "code",
   "execution_count": null,
   "id": "ce468bb2-c2b5-47e9-8e98-96792273aad9",
   "metadata": {},
   "outputs": [],
   "source": [
    "# data_t.head()"
   ]
  }
 ],
 "metadata": {
  "kernelspec": {
   "display_name": "Python 3 (ipykernel)",
   "language": "python",
   "name": "python3"
  },
  "language_info": {
   "codemirror_mode": {
    "name": "ipython",
    "version": 3
   },
   "file_extension": ".py",
   "mimetype": "text/x-python",
   "name": "python",
   "nbconvert_exporter": "python",
   "pygments_lexer": "ipython3",
   "version": "3.9.21"
  }
 },
 "nbformat": 4,
 "nbformat_minor": 5
}
