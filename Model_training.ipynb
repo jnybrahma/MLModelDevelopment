{
 "cells": [
  {
   "cell_type": "code",
   "execution_count": 1,
   "id": "3c890351-5282-4fc6-a356-6f990f8fcaf1",
   "metadata": {},
   "outputs": [],
   "source": [
    "# to handle datasets\n",
    "import pandas as pd\n",
    "import numpy as np\n",
    "\n",
    "# for plotting\n",
    "import matplotlib.pyplot as plt\n",
    "\n",
    "# to save the model\n",
    "import joblib\n",
    "\n",
    "# Reproducibility\n",
    "\n",
    "# to Build the models\n",
    "from sklearn.linear_model import Lasso\n",
    "\n",
    "# to evaulate the model\n",
    "from sklearn.metrics import mean_squared_error, r2_score\n",
    "\n",
    "# to visualise all the columns in the dataframe\n",
    "pd.pandas.set_option('display.max_columns', None)\n"
   ]
  },
  {
   "cell_type": "code",
   "execution_count": 2,
   "id": "37515e4b-9dd2-4f9d-8e08-32460fd61d85",
   "metadata": {},
   "outputs": [],
   "source": [
    "# load the train and test set with engineered variables\n",
    "\n",
    "# we built and saved these datasets in the previous notebook.\n",
    "# If you haven't done so, go ahead and check the previous notebooks\n",
    "# to find out how to create these datasets\n",
    "\n",
    "X_train = pd.read_csv('xtrain.csv')\n",
    "X_test = pd.read_csv('xtest.csv')\n",
    "\n",
    "\n",
    "# print(X_test)\n"
   ]
  },
  {
   "cell_type": "code",
   "execution_count": 3,
   "id": "ac1ea88a-fc90-4599-95b6-93d9fca08212",
   "metadata": {},
   "outputs": [
    {
     "name": "stdout",
     "output_type": "stream",
     "text": [
      "MSSubClass        0\n",
      "MSZoning          0\n",
      "LotFrontage       0\n",
      "LotArea           0\n",
      "Street            0\n",
      "                 ..\n",
      "SaleType          0\n",
      "SaleCondition     0\n",
      "LotFrontage_na    0\n",
      "MasVnrArea_na     0\n",
      "GarageYrBlt_na    0\n",
      "Length: 81, dtype: int64\n",
      "     MSSubClass  MSZoning  LotFrontage  LotArea  Street  Alley  LotShape  \\\n",
      "0      0.750000      0.75     0.445002      0.0     1.0    1.0  0.333333   \n",
      "1      0.416667      0.75     0.490408      0.0     1.0    1.0  0.000000   \n",
      "2      0.416667      0.75     0.445002      0.0     1.0    1.0  0.333333   \n",
      "3      1.000000      0.75     0.508690      0.0     1.0    1.0  0.000000   \n",
      "4      0.333333      0.25     0.000000      0.0     1.0    1.0  0.000000   \n",
      "..          ...       ...          ...      ...     ...    ...       ...   \n",
      "141    0.083333      0.25     0.189077      0.0     1.0    1.0  0.000000   \n",
      "142    0.750000      0.75     0.445002      0.0     1.0    1.0  0.000000   \n",
      "143    0.750000      0.75     0.394699      0.0     1.0    1.0  0.333333   \n",
      "144    0.250000      0.75     0.388581      0.0     1.0    1.0  0.000000   \n",
      "145    1.000000      0.75     0.445002      0.0     1.0    1.0  0.333333   \n",
      "\n",
      "     LandContour  Utilities  LotConfig  LandSlope  Neighborhood  Condition1  \\\n",
      "0       0.333333        1.0        1.0        0.0      0.727273         0.4   \n",
      "1       0.333333        1.0        0.0        0.0      0.363636         0.0   \n",
      "2       0.000000        1.0        0.5        0.0      0.181818         0.4   \n",
      "3       0.333333        1.0        0.0        0.0      0.772727         0.4   \n",
      "4       0.333333        1.0        0.0        0.0      0.090909         0.4   \n",
      "..           ...        ...        ...        ...           ...         ...   \n",
      "141     0.333333        1.0        0.0        0.0      0.136364         0.4   \n",
      "142     0.000000        1.0        0.5        0.0      0.727273         0.4   \n",
      "143     0.333333        1.0        0.0        0.0      0.681818         0.4   \n",
      "144     0.333333        1.0        0.0        0.0      0.272727         0.2   \n",
      "145     0.333333        1.0        0.0        0.0      0.590909         0.4   \n",
      "\n",
      "     Condition2  BldgType  HouseStyle  OverallQual  OverallCond  YearBuilt  \\\n",
      "0           1.0      0.75         0.6     0.555556        0.250   0.367647   \n",
      "1           1.0      0.75         0.2     0.555556        0.750   0.477941   \n",
      "2           1.0      0.75         0.2     0.444444        0.375   0.433824   \n",
      "3           1.0      0.75         1.0     0.666667        0.500   0.227941   \n",
      "4           1.0      0.50         1.0     0.555556        0.500   0.286765   \n",
      "..          ...       ...         ...          ...          ...        ...   \n",
      "141         1.0      1.00         0.8     0.444444        0.500   0.007353   \n",
      "142         1.0      0.75         0.6     0.555556        0.500   0.397059   \n",
      "143         1.0      0.75         0.6     0.444444        0.750   0.235294   \n",
      "144         1.0      0.25         0.0     0.333333        0.375   0.286765   \n",
      "145         1.0      0.75         1.0     0.555556        0.500   0.095588   \n",
      "\n",
      "     YearRemodAdd  RoofStyle  RoofMatl  Exterior1st  Exterior2nd  MasVnrType  \\\n",
      "0        0.540984        1.0       0.0          0.1          0.5    0.333333   \n",
      "1        0.934426        0.0       0.0          0.1          0.1    0.333333   \n",
      "2        0.983607        0.0       0.0          0.3          0.2    0.000000   \n",
      "3        0.524590        1.0       0.0          0.7          0.7    0.666667   \n",
      "4        0.655738        0.0       0.0          0.6          0.5    0.666667   \n",
      "..            ...        ...       ...          ...          ...         ...   \n",
      "141      0.032787        0.0       0.0          1.0          1.0    0.666667   \n",
      "142      0.901639        1.0       0.0          0.1          0.1    0.666667   \n",
      "143      0.032787        0.0       0.0          0.6          0.6    0.333333   \n",
      "144      0.655738        0.0       0.0          0.7          0.7    0.333333   \n",
      "145      0.213115        0.0       0.0          0.6          0.6    0.666667   \n",
      "\n",
      "     MasVnrArea  ExterQual  ExterCond  Foundation  BsmtQual  BsmtCond  \\\n",
      "0      0.064873   0.666667       0.50         1.0  0.333333  0.666667   \n",
      "1      0.000000   0.333333       0.50         0.5  0.333333  0.666667   \n",
      "2      0.100625   0.333333       0.50         0.5  0.333333  0.666667   \n",
      "3      0.186875   0.333333       0.50         0.5  0.666667  0.666667   \n",
      "4      0.238125   0.333333       0.50         0.5  0.333333  0.666667   \n",
      "..          ...        ...        ...         ...       ...       ...   \n",
      "141    0.050000   0.333333       0.50         1.0  0.666667  0.666667   \n",
      "142    0.115000   0.333333       0.75         0.5  0.666667  0.666667   \n",
      "143    0.000000   0.333333       0.50         0.5  0.666667  0.666667   \n",
      "144    0.000000   0.333333       0.50         0.5  0.666667  0.666667   \n",
      "145    0.070000   0.333333       0.50         1.0  0.666667  0.666667   \n",
      "\n",
      "     BsmtExposure  BsmtFinType1  BsmtFinSF1  BsmtFinType2  BsmtFinSF2  \\\n",
      "0        0.000000        0.5000    0.215982           0.0         0.0   \n",
      "1        0.000000        0.7500    0.071403           0.5         1.0   \n",
      "2        0.000000        0.2500    0.032778           0.0         0.0   \n",
      "3        0.000000        0.7500    0.069454           0.0         0.0   \n",
      "4        0.000000        0.0000    0.000000           0.0         0.0   \n",
      "..            ...           ...         ...           ...         ...   \n",
      "141      1.000000        0.4075    0.096917           0.0         0.0   \n",
      "142      0.333333        1.0000    0.006201           0.5         1.0   \n",
      "143      0.333333        0.2500    0.094259           0.5         1.0   \n",
      "144      0.666667        0.4075    0.212261           0.0         0.0   \n",
      "145      0.000000        1.0000    0.091779           0.0         0.0   \n",
      "\n",
      "     BsmtUnfSF  TotalBsmtSF  Heating  HeatingQC  CentralAir  Electrical  \\\n",
      "0     0.379006     0.333061      1.0       0.50         1.0    1.000000   \n",
      "1     0.110543     0.131915      1.0       0.50         1.0    0.666667   \n",
      "2     0.243381     0.116039      1.0       0.50         1.0    1.000000   \n",
      "3     0.356712     0.189853      1.0       1.00         1.0    1.000000   \n",
      "4     0.243846     0.085925      1.0       0.50         1.0    1.000000   \n",
      "..         ...          ...      ...        ...         ...         ...   \n",
      "141   0.000000     0.089525      1.0       0.75         1.0    1.000000   \n",
      "142   0.420344     0.296072      1.0       0.50         1.0    1.000000   \n",
      "143   0.169066     0.170213      1.0       0.50         1.0    1.000000   \n",
      "144   0.000000     0.196072      1.0       0.50         1.0    1.000000   \n",
      "145   0.083140     0.114075      1.0       0.75         1.0    1.000000   \n",
      "\n",
      "     1stFlrSF  2ndFlrSF  LowQualFinSF  GrLivArea  BsmtFullBath  BsmtHalfBath  \\\n",
      "0    0.764014  0.000000           0.0   0.714182      0.333333           0.0   \n",
      "1    0.398758  0.331197           0.0   0.549294      0.333333           0.0   \n",
      "2    0.406964  0.119658           0.0   0.453307      0.333333           0.0   \n",
      "3    0.469855  0.462607           0.0   0.636999      0.000000           0.0   \n",
      "4    0.171149  0.302885           0.0   0.419061      0.000000           0.0   \n",
      "..        ...       ...           ...        ...           ...           ...   \n",
      "141  0.441306  0.000000           0.0   0.412522      0.333333           0.0   \n",
      "142  0.723389  0.000000           0.0   0.676207      0.333333           0.0   \n",
      "143  0.429838  0.000000           0.0   0.401802      0.000000           0.0   \n",
      "144  0.501855  0.000000           0.0   0.469121      0.666667           0.0   \n",
      "145  0.278392  0.429487           0.0   0.531597      0.000000           0.0   \n",
      "\n",
      "     FullBath  HalfBath  BedroomAbvGr  KitchenAbvGr  KitchenQual  \\\n",
      "0    1.000000       0.0         0.500      0.666667     0.333333   \n",
      "1    0.333333       0.0         0.375      0.333333     0.000000   \n",
      "2    0.333333       0.0         0.375      0.333333     0.666667   \n",
      "3    0.666667       0.5         0.500      0.333333     0.333333   \n",
      "4    0.333333       0.5         0.375      0.333333     0.333333   \n",
      "..        ...       ...           ...           ...          ...   \n",
      "141  0.333333       0.0         0.250      0.333333     0.333333   \n",
      "142  0.666667       0.0         0.375      0.333333     0.666667   \n",
      "143  0.666667       0.0         0.375      0.333333     0.666667   \n",
      "144  0.000000       1.0         0.000      0.666667     0.333333   \n",
      "145  0.666667       0.5         0.375      0.333333     0.666667   \n",
      "\n",
      "     TotRmsAbvGrd  Functional  Fireplaces  FireplaceQu  GarageType  \\\n",
      "0        0.583333         0.0    0.666667          0.6        0.75   \n",
      "1        0.250000         1.0    0.666667          0.6        0.75   \n",
      "2        0.250000         1.0    0.333333          0.6        0.25   \n",
      "3        0.500000         1.0    0.333333          0.6        0.75   \n",
      "4        0.333333         1.0    0.000000          0.0        0.25   \n",
      "..            ...         ...         ...          ...         ...   \n",
      "141      0.250000         1.0    0.000000          0.0        0.50   \n",
      "142      0.416667         1.0    0.666667          0.8        0.50   \n",
      "143      0.250000         1.0    0.000000          0.0        0.25   \n",
      "144      0.333333         1.0    0.000000          0.0        0.00   \n",
      "145      0.333333         1.0    0.333333          0.6        0.75   \n",
      "\n",
      "     GarageYrBlt  GarageFinish  GarageCars  GarageArea  GarageQual  \\\n",
      "0       0.299065           0.5        0.50    0.341326        0.50   \n",
      "1       0.607477           0.0        0.25    0.169252        0.50   \n",
      "2       0.551402           0.0        0.25    0.248237        0.50   \n",
      "3       0.289720           1.0        0.50    0.356135        0.50   \n",
      "4       0.364486           0.0        0.25    0.186178        0.50   \n",
      "..           ...           ...         ...         ...         ...   \n",
      "141     0.009346           1.0        0.50    0.370240        0.50   \n",
      "142     0.504673           0.0        0.50    0.317348        0.50   \n",
      "143     0.299065           0.0        0.50    0.341326        0.50   \n",
      "144     0.364486           0.0        0.50    0.282087        0.25   \n",
      "145     0.121495           1.0        0.50    0.296192        0.50   \n",
      "\n",
      "     GarageCond  PavedDrive  WoodDeckSF  OpenPorchSF  EnclosedPorch  \\\n",
      "0           0.5         1.0    0.000000     0.000000            1.0   \n",
      "1           0.5         1.0    0.000000     0.000000            1.0   \n",
      "2           0.5         1.0    0.000000     0.000000            1.0   \n",
      "3           0.5         1.0    0.336056     0.213894            0.0   \n",
      "4           0.5         1.0    0.000000     0.000000            0.0   \n",
      "..          ...         ...         ...          ...            ...   \n",
      "141         0.5         1.0    0.000000     0.051188            0.0   \n",
      "142         0.5         1.0    0.193699     0.219378            1.0   \n",
      "143         0.5         1.0    0.000000     0.000000            0.0   \n",
      "144         0.5         1.0    0.140023     0.000000            0.0   \n",
      "145         0.5         1.0    0.221704     0.115174            0.0   \n",
      "\n",
      "     3SsnPorch  ScreenPorch  PoolArea  PoolQC  Fence  MiscFeature  MiscVal  \\\n",
      "0          0.0          0.0       0.0     0.0   0.00          1.0      0.0   \n",
      "1          0.0          0.0       0.0     0.0   0.75          1.0      0.0   \n",
      "2          0.0          0.0       0.0     0.0   0.00          1.0      0.0   \n",
      "3          0.0          0.0       0.0     0.0   0.00          1.0      0.0   \n",
      "4          0.0          0.0       0.0     0.0   0.00          1.0      0.0   \n",
      "..         ...          ...       ...     ...    ...          ...      ...   \n",
      "141        0.0          0.0       0.0     0.0   0.00          1.0      0.0   \n",
      "142        0.0          0.0       0.0     0.0   0.75          1.0      0.0   \n",
      "143        0.0          1.0       0.0     0.0   0.00          1.0      0.0   \n",
      "144        0.0          0.0       0.0     0.0   0.00          1.0      0.0   \n",
      "145        0.0          0.0       0.0     0.0   0.00          1.0      0.0   \n",
      "\n",
      "       MoSold  SaleType  SaleCondition  LotFrontage_na  MasVnrArea_na  \\\n",
      "0    0.181818  0.666667           0.00             1.0            1.0   \n",
      "1    0.636364  0.666667           0.75             0.0            0.0   \n",
      "2    0.545455  0.666667           0.75             1.0            0.0   \n",
      "3    0.181818  0.666667           0.75             0.0            0.0   \n",
      "4    0.181818  0.666667           0.50             0.0            0.0   \n",
      "..        ...       ...            ...             ...            ...   \n",
      "141  0.363636  0.666667           0.75             0.0            0.0   \n",
      "142  0.818182  0.000000           0.25             1.0            0.0   \n",
      "143  0.727273  0.666667           0.75             0.0            0.0   \n",
      "144  0.000000  0.666667           0.00             0.0            0.0   \n",
      "145  0.363636  0.666667           0.75             1.0            0.0   \n",
      "\n",
      "     GarageYrBlt_na  \n",
      "0               0.0  \n",
      "1               0.0  \n",
      "2               0.0  \n",
      "3               0.0  \n",
      "4               0.0  \n",
      "..              ...  \n",
      "141             0.0  \n",
      "142             0.0  \n",
      "143             0.0  \n",
      "144             0.0  \n",
      "145             0.0  \n",
      "\n",
      "[146 rows x 81 columns]\n"
     ]
    }
   ],
   "source": [
    "print(X_test.isnull().sum())\n",
    "X_test =X_test.fillna(X_test.mean())\n",
    "print(X_test)"
   ]
  },
  {
   "cell_type": "code",
   "execution_count": 4,
   "id": "fb4c9a7e-d0a4-41a4-8452-f628c2ecd58c",
   "metadata": {},
   "outputs": [
    {
     "data": {
      "text/html": [
       "<div>\n",
       "<style scoped>\n",
       "    .dataframe tbody tr th:only-of-type {\n",
       "        vertical-align: middle;\n",
       "    }\n",
       "\n",
       "    .dataframe tbody tr th {\n",
       "        vertical-align: top;\n",
       "    }\n",
       "\n",
       "    .dataframe thead th {\n",
       "        text-align: right;\n",
       "    }\n",
       "</style>\n",
       "<table border=\"1\" class=\"dataframe\">\n",
       "  <thead>\n",
       "    <tr style=\"text-align: right;\">\n",
       "      <th></th>\n",
       "      <th>SalePrice</th>\n",
       "    </tr>\n",
       "  </thead>\n",
       "  <tbody>\n",
       "    <tr>\n",
       "      <th>0</th>\n",
       "      <td>12.211</td>\n",
       "    </tr>\n",
       "    <tr>\n",
       "      <th>1</th>\n",
       "      <td>11.888</td>\n",
       "    </tr>\n",
       "    <tr>\n",
       "      <th>2</th>\n",
       "      <td>12.676</td>\n",
       "    </tr>\n",
       "    <tr>\n",
       "      <th>3</th>\n",
       "      <td>12.278</td>\n",
       "    </tr>\n",
       "    <tr>\n",
       "      <th>4</th>\n",
       "      <td>12.103</td>\n",
       "    </tr>\n",
       "  </tbody>\n",
       "</table>\n",
       "</div>"
      ],
      "text/plain": [
       "   SalePrice\n",
       "0     12.211\n",
       "1     11.888\n",
       "2     12.676\n",
       "3     12.278\n",
       "4     12.103"
      ]
     },
     "execution_count": 4,
     "metadata": {},
     "output_type": "execute_result"
    }
   ],
   "source": [
    "# load the target (remember that the target is log transformed)\n",
    "y_train = pd.read_csv('ytrain.csv')\n",
    "y_test = pd.read_csv('ytest.csv')\n",
    "\n",
    "y_train.head()"
   ]
  },
  {
   "cell_type": "code",
   "execution_count": 5,
   "id": "4d21319d-1225-4d7e-be9c-c492af2326d1",
   "metadata": {},
   "outputs": [
    {
     "data": {
      "text/plain": [
       "['MSSubClass',\n",
       " 'MSZoning',\n",
       " 'LotShape',\n",
       " 'LandContour',\n",
       " 'LotConfig',\n",
       " 'Neighborhood',\n",
       " 'HouseStyle',\n",
       " 'OverallQual',\n",
       " 'OverallCond',\n",
       " 'YearRemodAdd',\n",
       " 'RoofStyle',\n",
       " 'Exterior1st',\n",
       " 'ExterQual',\n",
       " 'Foundation',\n",
       " 'BsmtQual',\n",
       " 'BsmtExposure',\n",
       " 'BsmtFinType1',\n",
       " 'HeatingQC',\n",
       " 'CentralAir',\n",
       " '1stFlrSF',\n",
       " '2ndFlrSF',\n",
       " 'GrLivArea',\n",
       " 'BsmtFullBath',\n",
       " 'FullBath',\n",
       " 'HalfBath',\n",
       " 'KitchenQual',\n",
       " 'TotRmsAbvGrd',\n",
       " 'Functional',\n",
       " 'Fireplaces',\n",
       " 'FireplaceQu',\n",
       " 'GarageFinish',\n",
       " 'GarageCars',\n",
       " 'GarageArea',\n",
       " 'PavedDrive',\n",
       " 'WoodDeckSF',\n",
       " 'ScreenPorch',\n",
       " 'SaleCondition']"
      ]
     },
     "execution_count": 5,
     "metadata": {},
     "output_type": "execute_result"
    }
   ],
   "source": [
    "# load the pre-selected features\n",
    "# ==============================\n",
    "\n",
    "# we selected the features on the prevous notebook (step 3)\n",
    "\n",
    "# if you haven't done so, go ahead and visit the previous notebook\n",
    "# to find out how to select the features\n",
    "\n",
    "features = pd.read_csv('selected_features.csv')\n",
    "features = features['0'].to_list()\n",
    "\n",
    "# display final feature set\n",
    "features\n"
   ]
  },
  {
   "cell_type": "code",
   "execution_count": 6,
   "id": "3b02e9e6-e813-4a7e-9f11-c46ed909c7d5",
   "metadata": {},
   "outputs": [],
   "source": [
    "# reduced the train and test set to the selected features\n",
    "\n",
    "X_train = X_train[features]\n",
    "X_test = X_test[features]"
   ]
  },
  {
   "cell_type": "code",
   "execution_count": 7,
   "id": "087f8f82-18d6-4df1-8e53-ceb65433ad20",
   "metadata": {},
   "outputs": [
    {
     "data": {
      "text/plain": [
       "Lasso(alpha=0.001, random_state=0)"
      ]
     },
     "execution_count": 7,
     "metadata": {},
     "output_type": "execute_result"
    }
   ],
   "source": [
    "# Regularised linear regression : Lasso\n",
    "\n",
    "# set up the model\n",
    "# remember to set the random_state / seed\n",
    "\n",
    "lin_model = Lasso(alpha=0.001, random_state=0)\n",
    "\n",
    "# train the model\n",
    "\n",
    "lin_model.fit(X_train, y_train)"
   ]
  },
  {
   "cell_type": "code",
   "execution_count": 8,
   "id": "f3388414-2e3e-472a-a9a5-501ff329bcae",
   "metadata": {},
   "outputs": [
    {
     "name": "stdout",
     "output_type": "stream",
     "text": [
      "train mse: 784738485\n",
      "train rmse: 28013\n",
      "train r2: 0.8743287354409518\n",
      "\n",
      "test mse: 1019864418\n",
      "test rmse: 31935\n",
      "test r2: 0.8515938141044387\n",
      "\n",
      "Average house price:  163080\n"
     ]
    }
   ],
   "source": [
    "# evaluate the model\n",
    "\n",
    "# remember that we log transformed the output (SalePrice)\n",
    "# in our feature engineering notebook (step 2).\n",
    "\n",
    "# In order to get the true performance of the Lasso\n",
    "# we need to transformed both the target and the predictions\n",
    "# back to the original house price values\n",
    "\n",
    "# We will evaluate performance using the mean squared error and \n",
    "# the root of the mean sqaured error and r2\n",
    "\n",
    "# make predictions for train set\n",
    "pred = lin_model.predict(X_train)\n",
    "\n",
    "# determine mse, rmse and r2\n",
    "print('train mse: {}'.format(int(mean_squared_error(np.exp(y_train), np.exp(pred)))))\n",
    "print('train rmse: {}'.format(int(mean_squared_error(np.exp(y_train), np.exp(pred), squared=False))))\n",
    "print('train r2: {}'.format(r2_score(np.exp(y_train), np.exp(pred))))\n",
    "print()\n",
    "\n",
    "# make predictions for test set\n",
    "pred = lin_model.predict(X_test)\n",
    "\n",
    "# determine mse, rmse and r2\n",
    "print('test mse: {}'.format(int(mean_squared_error(np.exp(y_test), np.exp(pred)))))\n",
    "print('test rmse: {}'.format(int(mean_squared_error(np.exp(y_test), np.exp(pred), squared=False))))\n",
    "print('test r2: {}'.format(r2_score(np.exp(y_test), np.exp(pred))))\n",
    "print()\n",
    "\n",
    "\n",
    "print('Average house price: ', int(np.exp(y_train).median()))\n"
   ]
  },
  {
   "cell_type": "code",
   "execution_count": 9,
   "id": "0cd492e7-0a94-44f0-bd38-7283f149b35a",
   "metadata": {},
   "outputs": [
    {
     "data": {
      "text/plain": [
       "Text(0.5, 1.0, 'Evaluate of Lasso Predictions')"
      ]
     },
     "execution_count": 9,
     "metadata": {},
     "output_type": "execute_result"
    },
    {
     "data": {
      "image/png": "[encoded data removed]",
      "text/plain": [
       "<Figure size 640x480 with 1 Axes>"
      ]
     },
     "metadata": {},
     "output_type": "display_data"
    }
   ],
   "source": [
    "# let's evaluet our predictions respect to the real sale price\n",
    "plt.scatter(y_test, lin_model.predict(X_test))\n",
    "plt.xlabel('True House Price')\n",
    "plt.ylabel('Predicted House Price')\n",
    "plt.title('Evaluate of Lasso Predictions')"
   ]
  },
  {
   "cell_type": "code",
   "execution_count": 10,
   "id": "0e863eb1-cb59-4794-b177-5e95fdbfd517",
   "metadata": {},
   "outputs": [
    {
     "data": {
      "text/html": [
       "<div>\n",
       "<style scoped>\n",
       "    .dataframe tbody tr th:only-of-type {\n",
       "        vertical-align: middle;\n",
       "    }\n",
       "\n",
       "    .dataframe tbody tr th {\n",
       "        vertical-align: top;\n",
       "    }\n",
       "\n",
       "    .dataframe thead th {\n",
       "        text-align: right;\n",
       "    }\n",
       "</style>\n",
       "<table border=\"1\" class=\"dataframe\">\n",
       "  <thead>\n",
       "    <tr style=\"text-align: right;\">\n",
       "      <th></th>\n",
       "      <th>SalePrice</th>\n",
       "    </tr>\n",
       "  </thead>\n",
       "  <tbody>\n",
       "    <tr>\n",
       "      <th>0</th>\n",
       "      <td>12.209188</td>\n",
       "    </tr>\n",
       "    <tr>\n",
       "      <th>1</th>\n",
       "      <td>11.798104</td>\n",
       "    </tr>\n",
       "    <tr>\n",
       "      <th>2</th>\n",
       "      <td>11.608236</td>\n",
       "    </tr>\n",
       "    <tr>\n",
       "      <th>3</th>\n",
       "      <td>12.165251</td>\n",
       "    </tr>\n",
       "    <tr>\n",
       "      <th>4</th>\n",
       "      <td>11.385092</td>\n",
       "    </tr>\n",
       "    <tr>\n",
       "      <th>...</th>\n",
       "      <td>...</td>\n",
       "    </tr>\n",
       "    <tr>\n",
       "      <th>141</th>\n",
       "      <td>11.884489</td>\n",
       "    </tr>\n",
       "    <tr>\n",
       "      <th>142</th>\n",
       "      <td>12.287653</td>\n",
       "    </tr>\n",
       "    <tr>\n",
       "      <th>143</th>\n",
       "      <td>11.921718</td>\n",
       "    </tr>\n",
       "    <tr>\n",
       "      <th>144</th>\n",
       "      <td>11.598727</td>\n",
       "    </tr>\n",
       "    <tr>\n",
       "      <th>145</th>\n",
       "      <td>12.017331</td>\n",
       "    </tr>\n",
       "  </tbody>\n",
       "</table>\n",
       "<p>146 rows × 1 columns</p>\n",
       "</div>"
      ],
      "text/plain": [
       "     SalePrice\n",
       "0    12.209188\n",
       "1    11.798104\n",
       "2    11.608236\n",
       "3    12.165251\n",
       "4    11.385092\n",
       "..         ...\n",
       "141  11.884489\n",
       "142  12.287653\n",
       "143  11.921718\n",
       "144  11.598727\n",
       "145  12.017331\n",
       "\n",
       "[146 rows x 1 columns]"
      ]
     },
     "execution_count": 10,
     "metadata": {},
     "output_type": "execute_result"
    }
   ],
   "source": [
    "y_test.reset_index(drop=True)"
   ]
  },
  {
   "cell_type": "code",
   "execution_count": 11,
   "id": "4ea242dd-6a22-473c-a37e-bff7584202a2",
   "metadata": {},
   "outputs": [
    {
     "data": {
      "text/plain": [
       "0      12.164512\n",
       "1      11.930092\n",
       "2      11.695602\n",
       "3      12.304467\n",
       "4      11.452986\n",
       "         ...    \n",
       "141    11.770376\n",
       "142    12.333589\n",
       "143    11.971392\n",
       "144    11.760474\n",
       "145    12.073084\n",
       "Length: 146, dtype: float64"
      ]
     },
     "execution_count": 11,
     "metadata": {},
     "output_type": "execute_result"
    }
   ],
   "source": [
    "# let's evaluate the distribution of the errors:\n",
    "# they should be fairly normally distributed\n",
    "\n",
    "y_test.reset_index(drop=True, inplace=True)\n",
    "\n",
    "preds = pd.Series(lin_model.predict(X_test))\n",
    "\n",
    "preds"
   ]
  },
  {
   "cell_type": "code",
   "execution_count": 12,
   "id": "8a307f57-efb6-48bb-9044-5b2af5ea9043",
   "metadata": {},
   "outputs": [
    {
     "data": {
      "image/png": "[encoded data removed]",
      "text/plain": [
       "<Figure size 640x480 with 1 Axes>"
      ]
     },
     "metadata": {},
     "output_type": "display_data"
    }
   ],
   "source": [
    "# lets evaluate the distribution of the errors:\n",
    "# they should be fairly normally distributed\n",
    "\n",
    "errors = y_test['SalePrice'] - preds\n",
    "errors.hist(bins=30)\n",
    "plt.show()"
   ]
  },
  {
   "cell_type": "code",
   "execution_count": 13,
   "id": "69e9afdd-311d-4c95-aa67-f062b9f1c415",
   "metadata": {},
   "outputs": [
    {
     "data": {
      "text/plain": [
       "Text(0.5, 1.0, 'Feature Importance')"
      ]
     },
     "execution_count": 13,
     "metadata": {},
     "output_type": "execute_result"
    },
    {
     "data": {
      "image/png": "[encoded data removed]",
      "text/plain": [
       "<Figure size 1800x600 with 1 Axes>"
      ]
     },
     "metadata": {},
     "output_type": "display_data"
    }
   ],
   "source": [
    "# Feature importance\n",
    "# Finally, just for fun, let's look at the feature importance\n",
    "\n",
    "importance = pd.Series(np.abs(lin_model.coef_.ravel()))\n",
    "importance.index = features\n",
    "importance.sort_values(inplace=True,ascending=False)\n",
    "importance.plot.bar(figsize=(18,6))\n",
    "plt.ylabel('Lasso Coefficients')\n",
    "plt.title('Feature Importance')"
   ]
  },
  {
   "cell_type": "code",
   "execution_count": 14,
   "id": "c3812f7d-970b-49dd-adbd-dcf4d0c68a8e",
   "metadata": {},
   "outputs": [
    {
     "data": {
      "text/plain": [
       "['linear_regression.joblib']"
      ]
     },
     "execution_count": 14,
     "metadata": {},
     "output_type": "execute_result"
    }
   ],
   "source": [
    "# Save the model\n",
    "# we are happy to our model, so we save it to be able\n",
    "# to score new data\n",
    "\n",
    "joblib.dump(lin_model, 'linear_regression.joblib')"
   ]
  },
  {
   "cell_type": "code",
   "execution_count": null,
   "id": "6a660744-e225-4006-be79-f1b01f297f42",
   "metadata": {},
   "outputs": [],
   "source": []
  }
 ],
 "metadata": {
  "kernelspec": {
   "display_name": "Python 3 (ipykernel)",
   "language": "python",
   "name": "python3"
  },
  "language_info": {
   "codemirror_mode": {
    "name": "ipython",
    "version": 3
   },
   "file_extension": ".py",
   "mimetype": "text/x-python",
   "name": "python",
   "nbconvert_exporter": "python",
   "pygments_lexer": "ipython3",
   "version": "3.9.21"
  }
 },
 "nbformat": 4,
 "nbformat_minor": 5
}
